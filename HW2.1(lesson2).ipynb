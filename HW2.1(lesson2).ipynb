{
 "cells": [
  {
   "cell_type": "code",
   "execution_count": 1,
   "metadata": {
    "collapsed": true
   },
   "outputs": [],
   "source": [
    "import numpy as np\n",
    "import random"
   ]
  },
  {
   "cell_type": "markdown",
   "source": [
    "### 2"
   ],
   "metadata": {
    "collapsed": false,
    "pycharm": {
     "name": "#%% md\n"
    }
   }
  },
  {
   "cell_type": "code",
   "execution_count": 2,
   "outputs": [
    {
     "name": "stdout",
     "output_type": "stream",
     "text": [
      "[[ 1 -2]\n",
      " [ 3  0]]\n",
      "[[ 4 -1]\n",
      " [ 0  5]]\n",
      "[[ 5 -3]\n",
      " [ 3  5]]\n",
      "[[  4 -11]\n",
      " [ 12  -3]]\n"
     ]
    }
   ],
   "source": [
    "a = np.array([[1, -2], [3, 0]])\n",
    "b = np.array([[4, -1], [0, 5]])\n",
    "print(a)\n",
    "print(b)\n",
    "print(a+b)\n",
    "print(a @ b)"
   ],
   "metadata": {
    "collapsed": false,
    "pycharm": {
     "name": "#%%\n"
    }
   }
  },
  {
   "cell_type": "markdown",
   "source": [
    "### 3"
   ],
   "metadata": {
    "collapsed": false,
    "pycharm": {
     "name": "#%% md\n"
    }
   }
  },
  {
   "cell_type": "code",
   "execution_count": 3,
   "outputs": [
    {
     "name": "stdout",
     "output_type": "stream",
     "text": [
      "[[ 1  7]\n",
      " [ 3 -6]]\n",
      "[[ 0  5]\n",
      " [ 2 -1]]\n",
      "[[ 2 -4]\n",
      " [ 1  1]]\n",
      "[[ 11  -5]\n",
      " [  9 -12]]\n"
     ]
    }
   ],
   "source": [
    "a2 = np.array([[1, 7], [3, -6]])\n",
    "b2 = np.array([[0, 5], [2, -1]])\n",
    "c2 = np.array([[2, -4], [1, 1]])\n",
    "print(a2)\n",
    "print(b2)\n",
    "print(c2)\n",
    "print(3*a2-2*b2+4*c2)"
   ],
   "metadata": {
    "collapsed": false,
    "pycharm": {
     "name": "#%%\n"
    }
   }
  },
  {
   "cell_type": "markdown",
   "source": [
    "### 4"
   ],
   "metadata": {
    "collapsed": false
   }
  },
  {
   "cell_type": "code",
   "execution_count": 4,
   "outputs": [
    {
     "name": "stdout",
     "output_type": "stream",
     "text": [
      "[[ 4  1]\n",
      " [ 5 -2]\n",
      " [ 2  3]]\n",
      "[[ 4  5  2]\n",
      " [ 1 -2  3]]\n",
      "[[17 18 11]\n",
      " [18 29  4]\n",
      " [11  4 13]]\n",
      "[[45  0]\n",
      " [ 0 14]]\n"
     ]
    }
   ],
   "source": [
    "a3 = np.array([[4, 1], [5, -2], [2, 3]])\n",
    "print(a3)\n",
    "print(a3.T)\n",
    "print(a3 @ a3.T)\n",
    "print(a3.T @ a3)"
   ],
   "metadata": {
    "collapsed": false,
    "pycharm": {
     "name": "#%%\n"
    }
   }
  },
  {
   "cell_type": "markdown",
   "source": [
    "### 5"
   ],
   "metadata": {
    "collapsed": false
   }
  },
  {
   "cell_type": "code",
   "execution_count": 5,
   "outputs": [
    {
     "name": "stdout",
     "output_type": "stream",
     "text": [
      "[[31, 38, 43], [87, 92, 63], [134, 108, 110]]\n"
     ]
    }
   ],
   "source": [
    "def matrixmult(m1,m2):\n",
    "    s=0     #сумма\n",
    "    t=[]    #временная матрица\n",
    "    m3=[] # конечная матрица\n",
    "    if len(m2)!=len(m1[0]):\n",
    "        print(\"Матрицы не могут быть перемножены\")\n",
    "    else:\n",
    "        r1=len(m1) #количество строк в первой матрице\n",
    "        c1=len(m1[0]) #Количество столбцов в 1 и строк во 2ой матрице\n",
    "        c2=len(m2[0]) #количество столбцов во 2ой матрице\n",
    "        for z in range(r1):\n",
    "            for j in range(c2):\n",
    "                for i in range(c1):\n",
    "                   s=s+m1[z][i]*m2[i][j]\n",
    "                t.append(s)\n",
    "                s=0\n",
    "            m3.append(t)\n",
    "            t=[]\n",
    "    return m3\n",
    "\n",
    "\n",
    "\n",
    "m3=matrixmult([[4, 1, 3], [10, 5, 1], [8, 10, 6]], [[4, 7, 4], [9, 4, 3], [2, 2, 8]])\n",
    "print(m3)"
   ],
   "metadata": {
    "collapsed": false,
    "pycharm": {
     "name": "#%%\n"
    }
   }
  },
  {
   "cell_type": "code",
   "execution_count": 6,
   "outputs": [
    {
     "data": {
      "text/plain": "array([[ 31,  38,  43],\n       [ 87,  92,  63],\n       [134, 108, 110]])"
     },
     "execution_count": 6,
     "metadata": {},
     "output_type": "execute_result"
    }
   ],
   "source": [
    "#Проверяю себя через numpy\n",
    "n1 = np.array([[4, 1, 3], [10, 5, 1], [8, 10, 6]])\n",
    "n2 = np.array([[4, 7, 4], [9, 4, 3], [2, 2, 8]])\n",
    "n1 @ n2"
   ],
   "metadata": {
    "collapsed": false,
    "pycharm": {
     "name": "#%%\n"
    }
   }
  }
 ],
 "metadata": {
  "kernelspec": {
   "display_name": "Python 3",
   "language": "python",
   "name": "python3"
  },
  "language_info": {
   "codemirror_mode": {
    "name": "ipython",
    "version": 2
   },
   "file_extension": ".py",
   "mimetype": "text/x-python",
   "name": "python",
   "nbconvert_exporter": "python",
   "pygments_lexer": "ipython2",
   "version": "2.7.6"
  }
 },
 "nbformat": 4,
 "nbformat_minor": 0
}