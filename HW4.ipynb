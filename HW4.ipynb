{
 "cells": [
  {
   "cell_type": "markdown",
   "source": [
    "### 1\n",
    "Проверю ранги матриц через numpy, чтобы понять сколько решений потенциально имеет система, далее решу на бумаге методом Гаусса"
   ],
   "metadata": {
    "collapsed": false,
    "pycharm": {
     "name": "#%% md\n"
    }
   }
  },
  {
   "cell_type": "code",
   "execution_count": 244,
   "metadata": {
    "collapsed": true,
    "pycharm": {
     "name": "#%%\n"
    }
   },
   "outputs": [
    {
     "data": {
      "text/plain": "(3, 3)"
     },
     "execution_count": 244,
     "metadata": {},
     "output_type": "execute_result"
    }
   ],
   "source": [
    "#Подключаю нумпай и задаю функцию для рангов матриц\n",
    "import numpy as np\n",
    "def gauss_ranks (M:np.array, M_right:np.array):\n",
    "    M_ext = np.concatenate((M, M_right.T), axis=1)\n",
    "    return np.linalg.matrix_rank(M), np.linalg.matrix_rank(M_ext)\n",
    "gauss_ranks(np.array([[1, 1, -1, -2], [2, 1, -1, 1], [1, 1, -3, 1]]), np.array([[0, -2, 4]]))"
   ]
  },
  {
   "cell_type": "markdown",
   "source": [
    "### 2\n",
    "Выведу ранги обычных и расширенных матриц для каждого пункта и ниже дам ответ"
   ],
   "metadata": {
    "collapsed": false
   }
  },
  {
   "cell_type": "code",
   "execution_count": 245,
   "outputs": [
    {
     "name": "stdout",
     "output_type": "stream",
     "text": [
      "a: (3, 3)\n",
      "б: (1, 2)\n",
      "в: (2, 2)\n"
     ]
    }
   ],
   "source": [
    "print(f'a: {gauss_ranks(np.array([[3, -1, 1], [2, -5, -3], [1, 1, -1]]), np.array([[4, -17, 0]]))}')\n",
    "print(f'б: {gauss_ranks(np.array([[2, -4, 6], [1, -2, 3], [3, -6, 9]]), np.array([[1, -2, 5]]))}')\n",
    "print(f'в: {gauss_ranks(np.array([[1, 2, 5], [3, 1, -8]]), np.array([[4, -2]]))}')"
   ],
   "metadata": {
    "collapsed": false,
    "pycharm": {
     "name": "#%%\n"
    }
   }
  },
  {
   "cell_type": "markdown",
   "source": [
    "Судя по результатам делаем выводы:<br>\n",
    "a) Система определена - 1 решение<br>\n",
    "б) Ситема несовместна - 0 решений<br>\n",
    "в) Система совместна - бесконечное множество решений\n",
    "\n",
    "### 3"
   ],
   "metadata": {
    "collapsed": false
   }
  },
  {
   "cell_type": "code",
   "execution_count": 246,
   "outputs": [
    {
     "data": {
      "text/plain": "(4, 4)"
     },
     "execution_count": 246,
     "metadata": {},
     "output_type": "execute_result"
    }
   ],
   "source": [
    "gauss_ranks(np.array([[1, 3, -2, 4], [0, 5, 0, 1], [0, 0, 3, 0], [0, 0, 0, 2]]), np.array([[3, 2, 4, 1]]))"
   ],
   "metadata": {
    "collapsed": false,
    "pycharm": {
     "name": "#%%\n"
    }
   }
  },
  {
   "cell_type": "markdown",
   "source": [
    "Определенная система, одно решение\n",
    "\n",
    "### 4"
   ],
   "metadata": {
    "collapsed": false
   }
  },
  {
   "cell_type": "code",
   "execution_count": 247,
   "outputs": [
    {
     "name": "stdout",
     "output_type": "stream",
     "text": [
      "(2, 3)\n"
     ]
    }
   ],
   "source": [
    "a4 = np.array([[1, 2, 3], [4, 5, 6], [7, 8, 9]])\n",
    "a4_right = np.array([[3, 3, 3]])\n",
    "print(gauss_ranks(a4, a4_right))"
   ],
   "metadata": {
    "collapsed": false,
    "pycharm": {
     "name": "#%%\n"
    }
   }
  },
  {
   "cell_type": "markdown",
   "source": [
    "Перебирая определенным образом правую часть, видно что система СОВМЕСТНА только когда срабатывает линейная зависимость параметров a ∈ Z, b = a+n, c=b+n, где n ∈ Z<br>\n",
    "Или другими словами совместность решений наблюдается когда каждый следующий элемент вектора на какое-то одно число больше предыдущего, в том числе и 0 (то есть все элементы вектора равны между собой)<br>\n",
    "Если это правило не соблюдается то и ранги матриц обычной и расширенной различаются и система становится несовместной\n",
    "\n"
   ],
   "metadata": {
    "collapsed": false
   }
  }
 ],
 "metadata": {
  "kernelspec": {
   "display_name": "Python 3",
   "language": "python",
   "name": "python3"
  },
  "language_info": {
   "codemirror_mode": {
    "name": "ipython",
    "version": 2
   },
   "file_extension": ".py",
   "mimetype": "text/x-python",
   "name": "python",
   "nbconvert_exporter": "python",
   "pygments_lexer": "ipython2",
   "version": "2.7.6"
  }
 },
 "nbformat": 4,
 "nbformat_minor": 0
}