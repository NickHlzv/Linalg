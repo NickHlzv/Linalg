{
 "cells": [
  {
   "cell_type": "code",
   "execution_count": 1,
   "metadata": {
    "collapsed": true
   },
   "outputs": [],
   "source": [
    "import numpy as np"
   ]
  },
  {
   "cell_type": "markdown",
   "source": [
    "### 1"
   ],
   "metadata": {
    "collapsed": false,
    "pycharm": {
     "name": "#%% md\n"
    }
   }
  },
  {
   "cell_type": "code",
   "execution_count": 2,
   "outputs": [
    {
     "name": "stdout",
     "output_type": "stream",
     "text": [
      "180.0\n",
      "0.0\n"
     ]
    }
   ],
   "source": [
    "b = np.array([[4, 2, 3], [0, 5, 1], [0, 0, 9]])\n",
    "v = np.array([[1, 2, 3], [4, 5, 6], [7, 8, 9]])\n",
    "print(np.linalg.det(b))\n",
    "print(np.linalg.det(v))"
   ],
   "metadata": {
    "collapsed": false,
    "pycharm": {
     "name": "#%%\n"
    }
   }
  },
  {
   "cell_type": "markdown",
   "source": [
    "### 2\n",
    "Под буквой в рассуждения:<br>\n",
    "По свойству умножения строки или столбца на одно и то же число увеличивает определитель на это число<br>\n",
    "По сколько му для примера взяли матрицу 2х2, то и определитель увеличится на 2^2 (умножится на 2 для обеих размерностей)<br>\n",
    "Отсюда следует ответ: \n",
    "а) Понятно что определитель возведется в квадрат (сделал через пример) = 16\n",
    "б) 4. По свойству транспонированных матриц\n",
    "в) 4*2^n, где n - размерность матрицы, в примере 16 соответственно"
   ],
   "metadata": {
    "collapsed": false
   }
  },
  {
   "cell_type": "code",
   "execution_count": 3,
   "outputs": [
    {
     "name": "stdout",
     "output_type": "stream",
     "text": [
      "3.999999999999999\n",
      "[[41 36]\n",
      " [36 32]]\n",
      "16.00000000000002\n",
      "15.999999999999998\n"
     ]
    }
   ],
   "source": [
    "a = np.array([[5, 4], [4, 4]])\n",
    "print(np.linalg.det(a))\n",
    "print(a @ a)\n",
    "print(np.linalg.det(a @ a))\n",
    "print(np.linalg.det(2 * a))"
   ],
   "metadata": {
    "collapsed": false,
    "pycharm": {
     "name": "#%%\n"
    }
   }
  },
  {
   "cell_type": "markdown",
   "source": [
    "### 3"
   ],
   "metadata": {
    "collapsed": false
   }
  },
  {
   "cell_type": "code",
   "execution_count": 4,
   "outputs": [
    {
     "data": {
      "text/plain": "0.0"
     },
     "execution_count": 4,
     "metadata": {},
     "output_type": "execute_result"
    }
   ],
   "source": [
    "a3 = np.array([[-2, 7, -3], [4, -14, 6], [-3, 7, 13]])\n",
    "np.linalg.det(a3)"
   ],
   "metadata": {
    "collapsed": false,
    "pycharm": {
     "name": "#%%\n"
    }
   }
  },
  {
   "cell_type": "markdown",
   "source": [
    "### 4"
   ],
   "metadata": {
    "collapsed": false
   }
  },
  {
   "cell_type": "code",
   "execution_count": 5,
   "outputs": [
    {
     "name": "stdout",
     "output_type": "stream",
     "text": [
      "2\n",
      "3\n"
     ]
    }
   ],
   "source": [
    "a4 = np.array([[1, 2, 3], [1, 1, 1], [2, 3, 4]])\n",
    "print(np.linalg.matrix_rank(a4))\n",
    "b4 = np.array([[0, 0, 2, 1], [0, 0, 2, 2], [0, 0, 4, 3], [2, 3, 5, 6]])\n",
    "print(np.linalg.matrix_rank(b4))"
   ],
   "metadata": {
    "collapsed": false,
    "pycharm": {
     "name": "#%%\n"
    }
   }
  }
 ],
 "metadata": {
  "kernelspec": {
   "display_name": "Python 3",
   "language": "python",
   "name": "python3"
  },
  "language_info": {
   "codemirror_mode": {
    "name": "ipython",
    "version": 2
   },
   "file_extension": ".py",
   "mimetype": "text/x-python",
   "name": "python",
   "nbconvert_exporter": "python",
   "pygments_lexer": "ipython2",
   "version": "2.7.6"
  }
 },
 "nbformat": 4,
 "nbformat_minor": 0
}