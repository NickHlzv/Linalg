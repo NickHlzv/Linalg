{
 "cells": [
  {
   "cell_type": "markdown",
   "source": [
    "### 1 и 5\n",
    "Напишу функию метода Крамера используя numpy. Основная причина: не нашел стандартной библиотеки которая считает методом крамера. В 5ом задании не указано каким путем написать функцию, удобнее и корректнее использовать numpy и таким образом решить сразу 2 задачи"
   ],
   "metadata": {
    "collapsed": false,
    "pycharm": {
     "name": "#%% md\n"
    }
   }
  },
  {
   "cell_type": "code",
   "execution_count": 1,
   "metadata": {
    "collapsed": true
   },
   "outputs": [
    {
     "name": "stdout",
     "output_type": "stream",
     "text": [
      "a. Ответ:[5, 2]\n",
      "б. Ответ:[2, -1, 1]\n"
     ]
    }
   ],
   "source": [
    "#В функции решил округлять значения до целого, чтобы решения были более красивыми\n",
    "import numpy as np\n",
    "from copy import copy\n",
    "def kramer(M:np.array, M_right:np.array):\n",
    "    det_main = np.linalg.det(M)\n",
    "    if det_main != 0:\n",
    "        solutions = []\n",
    "        for i in range(M.shape[len(M.shape)-1]):\n",
    "            m = copy(M)\n",
    "            m[::, i] = M_right\n",
    "            solutions.append(round(np.linalg.det(m)/det_main))\n",
    "        return solutions\n",
    "    else:\n",
    "        return 'Система неопределена, не решается методом Крамера'\n",
    "\n",
    "print(f'a. Ответ:{kramer(np.array([[1, -2], [3, -4]]), np.array([1, 7]))}')\n",
    "print(f'б. Ответ:{kramer(np.array([[2, -1, 5], [1, 1, -3], [2, 4, 1]]), np.array([10, -2, 1]))}')"
   ]
  },
  {
   "cell_type": "markdown",
   "source": [
    "### 2\n",
    "Взял набор готовых функций из гугла, для реализации"
   ],
   "metadata": {
    "collapsed": false
   }
  },
  {
   "cell_type": "code",
   "execution_count": 2,
   "outputs": [],
   "source": [
    "def decompose_to_LU(a):\n",
    "    \"\"\"Decompose matrix of coefficients to L and U matrices.\n",
    "     L and U triangular matrices will be represented in a single nxn matrix.\n",
    "    :param a: numpy matrix of coefficients\n",
    "    :return: numpy LU matrix\n",
    "    \"\"\"\n",
    "    # create emtpy LU-matrix\n",
    "    lu_matrix = np.matrix(np.zeros([a.shape[0], a.shape[1]]))\n",
    "    n = a.shape[0]\n",
    "\n",
    "    for k in range(n):\n",
    "        # calculate all residual k-row elements\n",
    "        for j in range(k, n):\n",
    "            lu_matrix[k, j] = a[k, j] - lu_matrix[k, :k] * lu_matrix[:k, j]\n",
    "        # calculate all residual k-column elemetns\n",
    "        for i in range(k + 1, n):\n",
    "            lu_matrix[i, k] = (a[i, k] - lu_matrix[i, : k] * lu_matrix[: k, k]) / lu_matrix[k, k]\n",
    "\n",
    "    return lu_matrix\n",
    "\n",
    "def get_L(m):\n",
    "    \"\"\"Get triangular L matrix from a single LU-matrix\n",
    "    :param m: numpy LU-matrix\n",
    "    :return: numpy triangular L matrix\n",
    "    \"\"\"\n",
    "    L = m.copy()\n",
    "    for i in range(L.shape[0]):\n",
    "            L[i, i] = 1\n",
    "            L[i, i+1 :] = 0\n",
    "    return np.matrix(L)\n",
    "\n",
    "\n",
    "def get_U(m):\n",
    "    \"\"\"Get triangular U matrix from a single LU-matrix\n",
    "    :param m: numpy LU-matrix\n",
    "    :return: numpy triangular U matrix\n",
    "    \"\"\"\n",
    "    U = m.copy()\n",
    "    for i in range(1, U.shape[0]):\n",
    "        U[i, :i] = 0\n",
    "    return U\n",
    "\n",
    "def solve_LU(lu_matrix, b):\n",
    "    \"\"\"Solve system of equations from given LU-matrix and vector b of absolute terms.\n",
    "    :param lu_matrix: numpy LU-matrix\n",
    "    :param b: numpy matrix of absolute terms [n x 1]\n",
    "    :return: numpy matrix of answers [n x 1]\n",
    "    \"\"\"\n",
    "    # get supporting vector y\n",
    "    y = np.matrix(np.zeros([lu_matrix.shape[0], 1]))\n",
    "    for i in range(y.shape[0]):\n",
    "        y[i, 0] = b[i, 0] - lu_matrix[i, :i] * y[:i]\n",
    "\n",
    "    # get vector of answers x\n",
    "    x = np.matrix(np.zeros([lu_matrix.shape[0], 1]))\n",
    "    for i in range(1, x.shape[0] + 1):\n",
    "        x[-i, 0] = (y[-i] - lu_matrix[-i, -i:] * x[-i:, 0] )/ lu_matrix[-i, -i]\n",
    "\n",
    "    return x"
   ],
   "metadata": {
    "collapsed": false,
    "pycharm": {
     "name": "#%%\n"
    }
   }
  },
  {
   "cell_type": "code",
   "execution_count": 3,
   "outputs": [
    {
     "data": {
      "text/plain": "matrix([[1., 0., 0.],\n        [2., 1., 0.],\n        [3., 4., 1.]])"
     },
     "execution_count": 3,
     "metadata": {},
     "output_type": "execute_result"
    }
   ],
   "source": [
    "lu1 = decompose_to_LU(np.array([[1, 2, 4], [2, 9, 12], [3, 26, 30]]))\n",
    "l1 = get_L(lu1)\n",
    "l1"
   ],
   "metadata": {
    "collapsed": false,
    "pycharm": {
     "name": "#%%\n"
    }
   }
  },
  {
   "cell_type": "code",
   "execution_count": 4,
   "outputs": [
    {
     "data": {
      "text/plain": "matrix([[1., 0., 0., 0.],\n        [2., 1., 0., 0.],\n        [3., 5., 1., 0.],\n        [4., 6., 7., 1.]])"
     },
     "execution_count": 4,
     "metadata": {},
     "output_type": "execute_result"
    }
   ],
   "source": [
    "lu2 = decompose_to_LU(np.array([[1, 1, 2, 4], [2, 5, 8, 9], [3, 18, 29, 18], [4, 22, 53, 33]]))\n",
    "l2 = get_L(lu2)\n",
    "l2"
   ],
   "metadata": {
    "collapsed": false,
    "pycharm": {
     "name": "#%%\n"
    }
   }
  },
  {
   "cell_type": "markdown",
   "source": [
    "### 3\n",
    "Также применю предыдущие функции"
   ],
   "metadata": {
    "collapsed": false,
    "pycharm": {
     "name": "#%% md\n"
    }
   }
  },
  {
   "cell_type": "code",
   "execution_count": 5,
   "outputs": [
    {
     "data": {
      "text/plain": "matrix([[-1.,  0.,  1.]])"
     },
     "execution_count": 5,
     "metadata": {},
     "output_type": "execute_result"
    }
   ],
   "source": [
    "a3 = np.array([[2, 1, 3], [11, 7, 5], [9, 8, 4]])\n",
    "a3_right = np.array([[1, -6, -5]])\n",
    "lu3 = decompose_to_LU(a3)\n",
    "solve_LU(lu3, a3_right.T).T"
   ],
   "metadata": {
    "collapsed": false,
    "pycharm": {
     "name": "#%%\n"
    }
   }
  },
  {
   "cell_type": "markdown",
   "source": [
    "### 4\n",
    "Использую numpy"
   ],
   "metadata": {
    "collapsed": false,
    "pycharm": {
     "name": "#%% md\n"
    }
   }
  },
  {
   "cell_type": "code",
   "execution_count": 6,
   "outputs": [
    {
     "name": "stdout",
     "output_type": "stream",
     "text": [
      "[ 6. -5. -4.]\n"
     ]
    }
   ],
   "source": [
    "a4 = np.array([[81, -45, 45], [-45, 50, -15], [45, -15, 38]])\n",
    "a4_right = np.array([531, -460, 193])\n",
    "ch = np.linalg.cholesky(a4)\n",
    "y4 = np.linalg.solve(ch, a4_right)\n",
    "print(np.linalg.solve(ch.T, y4))"
   ],
   "metadata": {
    "collapsed": false,
    "pycharm": {
     "name": "#%%\n"
    }
   }
  }
 ],
 "metadata": {
  "kernelspec": {
   "display_name": "Python 3",
   "language": "python",
   "name": "python3"
  },
  "language_info": {
   "codemirror_mode": {
    "name": "ipython",
    "version": 2
   },
   "file_extension": ".py",
   "mimetype": "text/x-python",
   "name": "python",
   "nbconvert_exporter": "python",
   "pygments_lexer": "ipython2",
   "version": "2.7.6"
  }
 },
 "nbformat": 4,
 "nbformat_minor": 0
}